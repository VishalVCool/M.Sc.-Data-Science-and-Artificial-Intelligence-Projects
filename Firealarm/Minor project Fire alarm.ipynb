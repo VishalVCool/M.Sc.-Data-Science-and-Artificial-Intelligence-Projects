{
 "cells": [
  {
   "cell_type": "code",
   "execution_count": null,
   "id": "f312bd1a",
   "metadata": {},
   "outputs": [
    {
     "name": "stdout",
     "output_type": "stream",
     "text": [
      "Alarm Triggered! Fire Detected! Please leave the premises immediately !! \n"
     ]
    }
   ],
   "source": [
    "import cv2\n",
    "import numpy as np\n",
    "import threading\n",
    "import playsound\n",
    "\n",
    "Alarm_Active = False\n",
    "Fire_Count = 0\n",
    "\n",
    "def activate_alarm():\n",
    "    print(\"Alarm Triggered! Fire Detected! Please leave the premises immediately !! \")\n",
    "    while True:\n",
    "        playsound.playsound('/Users/vishalbhatia/Documents/MSc. Data Science and AI/PROJECTS/MINOR PROJECTS/Firealarm/Fire_alarm.mp3', True)\n",
    "\n",
    "video_capture = cv2.VideoCapture(0)\n",
    "\n",
    "while True:\n",
    "    grabbed, frame = video_capture.read()\n",
    "    if not grabbed:\n",
    "        break\n",
    "    \n",
    "    frame = cv2.resize(frame, (960, 540))\n",
    "    blurred_frame = cv2.GaussianBlur(frame, (21, 21), 0)\n",
    "    hsv_frame = cv2.cvtColor(blurred_frame, cv2.COLOR_BGR2HSV)\n",
    "    \n",
    "    # Adjusting HSV color range for fire detection\n",
    "    lower_red1 = np.array([0, 150, 150])\n",
    "    upper_red1 = np.array([20, 255, 255])\n",
    "    mask1 = cv2.inRange(hsv_frame, lower_red1, upper_red1)\n",
    "    \n",
    "    lower_red2 = np.array([160, 150, 150])\n",
    "    upper_red2 = np.array([180, 255, 255])\n",
    "    mask2 = cv2.inRange(hsv_frame, lower_red2, upper_red2)\n",
    "    \n",
    "    combined_mask = cv2.bitwise_or(mask1, mask2)\n",
    "    \n",
    "    red_pixel_count = cv2.countNonZero(combined_mask)\n",
    "    if red_pixel_count > 10000:  \n",
    "        Fire_Count += 1\n",
    "    \n",
    "    cv2.imshow(\"Fire Detection\", cv2.bitwise_and(frame, frame, mask=combined_mask))\n",
    "    \n",
    "    if Fire_Count >= 1:\n",
    "        if not Alarm_Active:\n",
    "            threading.Thread(target=activate_alarm).start()\n",
    "            Alarm_Active = True\n",
    "    \n",
    "    if cv2.waitKey(1) & 0xFF == ord('q'):\n",
    "        break\n",
    "\n",
    "cv2.destroyAllWindows()\n",
    "video_capture.release()\n"
   ]
  },
  {
   "cell_type": "code",
   "execution_count": null,
   "id": "de712fb1",
   "metadata": {},
   "outputs": [],
   "source": []
  }
 ],
 "metadata": {
  "kernelspec": {
   "display_name": "Python 3 (ipykernel)",
   "language": "python",
   "name": "python3"
  },
  "language_info": {
   "codemirror_mode": {
    "name": "ipython",
    "version": 3
   },
   "file_extension": ".py",
   "mimetype": "text/x-python",
   "name": "python",
   "nbconvert_exporter": "python",
   "pygments_lexer": "ipython3",
   "version": "3.11.0"
  }
 },
 "nbformat": 4,
 "nbformat_minor": 5
}
